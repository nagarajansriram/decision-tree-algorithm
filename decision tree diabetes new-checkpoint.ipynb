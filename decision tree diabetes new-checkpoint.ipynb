{
 "cells": [
  {
   "cell_type": "code",
   "execution_count": 1,
   "metadata": {},
   "outputs": [
    {
     "name": "stderr",
     "output_type": "stream",
     "text": [
      "C:\\Users\\SRI\\Anaconda3\\lib\\site-packages\\sklearn\\cross_validation.py:41: DeprecationWarning: This module was deprecated in version 0.18 in favor of the model_selection module into which all the refactored classes and functions are moved. Also note that the interface of the new CV iterators are different from that of this module. This module will be removed in 0.20.\n",
      "  \"This module will be removed in 0.20.\", DeprecationWarning)\n"
     ]
    },
    {
     "name": "stdout",
     "output_type": "stream",
     "text": [
      "Dataset Lenght::  2\n",
      "Dataset Shape::  (768, 9)\n",
      "   preg   plas  pres  skin   insu  mass   pedi   age               class\n",
      "0   6.0  148.0  72.0  35.0    0.0  33.6  0.627  50.0  b'tested_positive'\n",
      "1   1.0   85.0  66.0  29.0    0.0  26.6  0.351  31.0  b'tested_negative'\n",
      "2   8.0  183.0  64.0   0.0    0.0  23.3  0.672  32.0  b'tested_positive'\n",
      "3   1.0   89.0  66.0  23.0   94.0  28.1  0.167  21.0  b'tested_negative'\n",
      "4   0.0  137.0  40.0  35.0  168.0  43.1  2.288  33.0  b'tested_positive'\n",
      "     preg   plas  pres  skin   insu  mass   pedi   age               class\n",
      "763  10.0  101.0  76.0  48.0  180.0  32.9  0.171  63.0  b'tested_negative'\n",
      "764   2.0  122.0  70.0  27.0    0.0  36.8  0.340  27.0  b'tested_negative'\n",
      "765   5.0  121.0  72.0  23.0  112.0  26.2  0.245  30.0  b'tested_negative'\n",
      "766   1.0  126.0  60.0   0.0    0.0  30.1  0.349  47.0  b'tested_positive'\n",
      "767   1.0   93.0  70.0  31.0    0.0  30.4  0.315  23.0  b'tested_negative'\n"
     ]
    }
   ],
   "source": [
    "from scipy.io import arff\n",
    "\n",
    "import numpy as np\n",
    "import pandas as pd\n",
    "from sklearn.cross_validation import train_test_split\n",
    "from sklearn.tree import DecisionTreeClassifier\n",
    "from sklearn.metrics import accuracy_score\n",
    "from sklearn import tree\n",
    "#balance_data = pd.read_csv(\n",
    "#'https://archive.ics.uci.edu/ml/machine-learning-databases/balance-scale/balance-scale.data',sep= ',', header= None)\n",
    "\n",
    "balance_data=arff.loadarff(\"C:\\Program Files\\Weka-3-8\\data\\diabetes.arff\")\n",
    "df = pd.DataFrame(balance_data[0])\n",
    "\n",
    "df.head()\n",
    "\n",
    "print( \"Dataset Lenght:: \", len(balance_data))\n",
    "print (\"Dataset Shape:: \", df.shape)\n",
    "print (df.head())\n",
    "\n",
    "print (df.tail())\n",
    "\n",
    "X = df.values[:, 0:7]\n",
    "Y = df.values[:,8]\n",
    "\n",
    "\n",
    "X_train, X_test, y_train, y_test = train_test_split( X, Y, test_size = 0.3, random_state = 100)"
   ]
  }
 ],
 "metadata": {
  "kernelspec": {
   "display_name": "Python 3",
   "language": "python",
   "name": "python3"
  },
  "language_info": {
   "codemirror_mode": {
    "name": "ipython",
    "version": 3
   },
   "file_extension": ".py",
   "mimetype": "text/x-python",
   "name": "python",
   "nbconvert_exporter": "python",
   "pygments_lexer": "ipython3",
   "version": "3.6.4"
  }
 },
 "nbformat": 4,
 "nbformat_minor": 2
}
