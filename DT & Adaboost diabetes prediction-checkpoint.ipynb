{
 "cells": [
  {
   "cell_type": "code",
   "execution_count": 133,
   "metadata": {},
   "outputs": [],
   "source": [
    "import numpy as np\n",
    "\n",
    "from sklearn.ensemble import AdaBoostClassifier\n",
    "from sklearn.model_selection import cross_val_score\n",
    "\n",
    "\n",
    "\n",
    "import csv\n",
    "import pandas as pd\n",
    "from sklearn.cross_validation import train_test_split\n",
    "from sklearn.tree import DecisionTreeClassifier\n",
    "from sklearn.metrics import accuracy_score\n",
    "from sklearn.metrics import classification_report, confusion_matrix  \n",
    "\n",
    "from sklearn import tree"
   ]
  },
  {
   "cell_type": "code",
   "execution_count": 122,
   "metadata": {},
   "outputs": [],
   "source": [
    "balance_data = pd.read_csv(r\"C:\\Users\\SRI\\Desktop\\diabetescsvnew.csv\",header=None)"
   ]
  },
  {
   "cell_type": "code",
   "execution_count": 123,
   "metadata": {},
   "outputs": [
    {
     "name": "stdout",
     "output_type": "stream",
     "text": [
      "Dataset Lenght::  10\n",
      "Dataset Shape::  (10, 9)\n"
     ]
    }
   ],
   "source": [
    "print (\"Dataset Lenght:: \", len(balance_data))\n",
    "print( \"Dataset Shape:: \", balance_data.shape)"
   ]
  },
  {
   "cell_type": "code",
   "execution_count": 124,
   "metadata": {
    "scrolled": true
   },
   "outputs": [
    {
     "name": "stdout",
     "output_type": "stream",
     "text": [
      "    0    1   2   3    4     5      6   7  8\n",
      "0   0    1   2   3    4   5.0  6.000   7  8\n",
      "1   6  148  72  35    0  33.6  0.627  50  1\n",
      "2   1   85  66  29    0  26.6  0.351  31  0\n",
      "3   8  183  64   0    0  23.3  0.672  32  1\n",
      "4   1   89  66  23   94  28.1  0.167  21  0\n",
      "5   0  137  40  35  168  43.1  2.288  33  1\n",
      "6   5  116  74   0    0  25.6  0.201  30  0\n",
      "7   3   78  50  32   88  31.0  0.248  26  1\n",
      "8  10  115   0   0    0  35.3  0.134  29  0\n",
      "9   2  197  70  45  543  30.5  0.158  53  1\n",
      "\n",
      "\n",
      "    0    1   2   3    4     5      6   7  8\n",
      "5   0  137  40  35  168  43.1  2.288  33  1\n",
      "6   5  116  74   0    0  25.6  0.201  30  0\n",
      "7   3   78  50  32   88  31.0  0.248  26  1\n",
      "8  10  115   0   0    0  35.3  0.134  29  0\n",
      "9   2  197  70  45  543  30.5  0.158  53  1\n"
     ]
    }
   ],
   "source": [
    "print (balance_data.head(10))\n",
    "print(\"\\n\")\n",
    "print(balance_data.tail())\n"
   ]
  },
  {
   "cell_type": "code",
   "execution_count": 125,
   "metadata": {},
   "outputs": [
    {
     "name": "stdout",
     "output_type": "stream",
     "text": [
      "(10, 8)\n",
      "(10,)\n"
     ]
    }
   ],
   "source": [
    "X = balance_data.values[:, 0:8]\n",
    "Y = balance_data.values[:,8]\n",
    "print(X.shape)\n",
    "print(Y.shape)"
   ]
  },
  {
   "cell_type": "code",
   "execution_count": 114,
   "metadata": {},
   "outputs": [],
   "source": [
    "X_train, X_test, y_train, y_test = train_test_split( X, Y, test_size = 0.3, random_state = 100)"
   ]
  },
  {
   "cell_type": "code",
   "execution_count": 173,
   "metadata": {},
   "outputs": [
    {
     "data": {
      "text/plain": [
       "DecisionTreeClassifier(class_weight=None, criterion='gini', max_depth=8,\n",
       "            max_features=None, max_leaf_nodes=None,\n",
       "            min_impurity_decrease=0.0, min_impurity_split=None,\n",
       "            min_samples_leaf=5, min_samples_split=2,\n",
       "            min_weight_fraction_leaf=0.0, presort=False, random_state=100,\n",
       "            splitter='best')"
      ]
     },
     "execution_count": 173,
     "metadata": {},
     "output_type": "execute_result"
    }
   ],
   "source": [
    "\n",
    "             #   BLOCK STARTS FOR DT CLASSIFIER ALONE ACCURACY WILLBE 33.33333333\n",
    "\n",
    "#clf_gini = DecisionTreeClassifier(criterion = \"gini\", random_state = 100,max_depth=8, min_samples_leaf=5)\n",
    "#clf_gini.fit(X_train, y_train)\n",
    "\n",
    "                          #BLOCK ENDS\n",
    "\n",
    "\n",
    "\n",
    "                   #       BLOCK STARTS FOR ADABOOST WITH DECISION TREE CLASSIFIER\n",
    "\n",
    "clf_gini = AdaBoostClassifier(DecisionTreeClassifier(criterion = \"gini\"))\n",
    "\n",
    "clf_gini.fit(X_train, y_train)\n",
    "           \n",
    "                           # BLOCK ENDS\n",
    "\n",
    "\n",
    "\n",
    "# TRY RUNNING BOLCKS SEPERATELY \n",
    "\n",
    "\n",
    "\n",
    "#clf = AdaBoostClassifier(n_estimators=100)"
   ]
  },
  {
   "cell_type": "code",
   "execution_count": 174,
   "metadata": {},
   "outputs": [],
   "source": [
    "y_pred=clf_gini.predict(X_test)"
   ]
  },
  {
   "cell_type": "code",
   "execution_count": 175,
   "metadata": {},
   "outputs": [
    {
     "name": "stdout",
     "output_type": "stream",
     "text": [
      "Accuracy is  33.33333333333333\n"
     ]
    }
   ],
   "source": [
    "print ( \"Accuracy is \", accuracy_score(y_test,y_pred)*100)\n",
    "\n",
    "#scores = cross_val_score(clf, y_test,y_pred, cv=5)\n",
    "#print(scores.mean())"
   ]
  }
 ],
 "metadata": {
  "kernelspec": {
   "display_name": "Python 3",
   "language": "python",
   "name": "python3"
  },
  "language_info": {
   "codemirror_mode": {
    "name": "ipython",
    "version": 3
   },
   "file_extension": ".py",
   "mimetype": "text/x-python",
   "name": "python",
   "nbconvert_exporter": "python",
   "pygments_lexer": "ipython3",
   "version": "3.6.4"
  }
 },
 "nbformat": 4,
 "nbformat_minor": 2
}
